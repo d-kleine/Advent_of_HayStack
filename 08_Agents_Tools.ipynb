{
  "cells": [
    {
      "cell_type": "markdown",
      "metadata": {
        "colab_type": "text",
        "id": "view-in-github"
      },
      "source": [
        "<a href=\"https://colab.research.google.com/github/d-kleine/Advent_of_HayStack/blob/main/08_Agents_Tools.ipynb\" target=\"_parent\"><img src=\"https://colab.research.google.com/assets/colab-badge.svg\" alt=\"Open In Colab\"/></a>"
      ]
    },
    {
      "cell_type": "markdown",
      "metadata": {
        "id": "JN0leM93chKG"
      },
      "source": [
        "# Advent of Haystack: Day 8\n",
        "_Make a copy of this Colab to start!_\n",
        "\n",
        "In this challenge, we will create an Agent for Santa's backoffice: a powerful assistant capable of answering questions about the gift inventory, tracking items taken for delivery, and purchasing new ones.\n",
        "\n",
        "We will use several Haystack components, focusing primarily on the new experimental **🛠️ Tool support** (which will soon be merged into the main repository).\n",
        "It's not completely documented yet, but you can find the most important information in this [GitHub discussion](https://github.com/deepset-ai/haystack-experimental/discussions/98).\n",
        "\n",
        "**Some Useful Components**\n",
        "* [DuckduckgoApiWebSearch](https://haystack.deepset.ai/integrations/duckduckgo-api-websearch) or another [WebSearch](https://docs.haystack.deepset.ai/docs/websearch) component\n",
        "* [PromptBuilder](https://docs.haystack.deepset.ai/docs/promptbuilder)\n",
        "* [OpenAIGenerator](https://docs.haystack.deepset.ai/docs/openaigenerator) or any other `Generator`\n",
        "* 🧪 [OpenAIChatGenerator](https://github.com/deepset-ai/haystack-experimental/blob/813157dd75cc95275c51d90bc6cfb7382d88ccc2/haystack_experimental/components/generators/chat/openai.py#L88)\n",
        "* 🧪 [ToolInvoker](https://docs.haystack.deepset.ai/reference/experimental-tools-api#toolinvoker)"
      ]
    },
    {
      "cell_type": "markdown",
      "metadata": {
        "id": "AXQ6jIJmeo8X"
      },
      "source": [
        "## 1) Installation"
      ]
    },
    {
      "cell_type": "code",
      "execution_count": 1,
      "metadata": {
        "id": "EzNLQp9gbzBA"
      },
      "outputs": [],
      "source": [
        "# !pip install -U openai haystack-ai duckduckgo-api-haystack"
      ]
    },
    {
      "cell_type": "markdown",
      "metadata": {
        "id": "GNkH92d4e5F1"
      },
      "source": [
        "## 2) Enter your API key\n",
        "\n",
        "Enter your OpenAI API key to use the `OpenAIGenerator` and `OpenAIChatGenerator`. Alternatively, you can explore and use other [Generators](https://docs.haystack.deepset.ai/docs/generators) with different models and providers."
      ]
    },
    {
      "cell_type": "code",
      "execution_count": 2,
      "metadata": {
        "colab": {
          "base_uri": "https://localhost:8080/"
        },
        "id": "QkHjTtt5e-tK",
        "outputId": "e4b5fc09-639f-4455-adbd-3abb2f0b4548"
      },
      "outputs": [],
      "source": [
        "import json\n",
        "import os\n",
        "\n",
        "with open(\"config.json\", \"r\") as config_file:\n",
        "    os.environ[\"OPENAI_API_KEY\"] = json.load(config_file)"
      ]
    },
    {
      "cell_type": "markdown",
      "metadata": {
        "id": "AtA5-wyee8sr"
      },
      "source": [
        "### (Optional) Setup the `LoggingTracer`\n",
        "\n",
        "We recently introduced [Real-Time Pipeline Logging](https://docs.haystack.deepset.ai/docs/logging#real-time-pipeline-logging), that allows to easily inspect the data that's flowing through your pipelines. Particularly helpful during experimentation with complex pipelines."
      ]
    },
    {
      "cell_type": "code",
      "execution_count": 3,
      "metadata": {
        "id": "Z-YMiEcEYmvb"
      },
      "outputs": [],
      "source": [
        "import logging\n",
        "from haystack import tracing\n",
        "from haystack.tracing.logging_tracer import LoggingTracer\n",
        "\n",
        "logging.basicConfig(\n",
        "    format=\"%(levelname)s - %(name)s -  %(message)s\", level=logging.WARNING\n",
        ")\n",
        "logging.getLogger(\"haystack\").setLevel(logging.DEBUG)\n",
        "\n",
        "tracing.tracer.is_content_tracing_enabled = (\n",
        "    True  # to enable tracing/logging content (inputs/outputs)\n",
        ")\n",
        "tracing.enable_tracing(\n",
        "    LoggingTracer(\n",
        "        tags_color_strings={\n",
        "            \"haystack.component.input\": \"\\x1b[1;31m\",\n",
        "            \"haystack.component.name\": \"\\x1b[1;34m\",\n",
        "        }\n",
        "    )\n",
        ")"
      ]
    },
    {
      "cell_type": "markdown",
      "metadata": {
        "id": "CYn2RbbKfmJ_"
      },
      "source": [
        "## 3) Populate the inventory\n",
        "\n",
        "In this section, we use a simple Haystack [`InMemoryDocumentStore`](https://docs.haystack.deepset.ai/docs/inmemorydocumentstore) as our inventory.\n",
        "The gift/items will be `Documents`."
      ]
    },
    {
      "cell_type": "code",
      "execution_count": 4,
      "metadata": {
        "id": "Wct4tIWDcY5n"
      },
      "outputs": [],
      "source": [
        "from haystack.document_stores.in_memory import InMemoryDocumentStore\n",
        "from haystack import Document\n",
        "\n",
        "document_store = InMemoryDocumentStore()"
      ]
    },
    {
      "cell_type": "code",
      "execution_count": 5,
      "metadata": {
        "id": "HHtwQNBefFyt"
      },
      "outputs": [],
      "source": [
        "documents = [\n",
        "    Document(\n",
        "        content=\"LEGO Star Wars Set\",\n",
        "        meta={\"units\": 3456, \"origin\": \"Amazon\", \"description\": \"Amazon\"},\n",
        "    ),\n",
        "    Document(\n",
        "        content=\"Wooden Sailboat\",\n",
        "        meta={\"units\": 124, \"origin\": \"handmade\", \"description\": \"Handmade\"},\n",
        "    ),\n",
        "    Document(\n",
        "        content=\"Nintendo Switch\",\n",
        "        meta={\"units\": 2189, \"origin\": \"Amazon\", \"description\": \"Amazon\"},\n",
        "    ),\n",
        "    Document(\n",
        "        content=\"Hand-Knitted Teddy Bear\",\n",
        "        meta={\"units\": 233, \"origin\": \"handmade\", \"description\": \"Handmade\"},\n",
        "    ),\n",
        "    Document(\n",
        "        content=\"Barbie Dreamhouse\",\n",
        "        meta={\"units\": 1673, \"origin\": \"Amazon\", \"description\": \"Amazon\"},\n",
        "    ),\n",
        "    Document(\n",
        "        content=\"Carved Wooden Puzzle\",\n",
        "        meta={\"units\": 179, \"origin\": \"handmade\", \"description\": \"Handmade\"},\n",
        "    ),\n",
        "    Document(\n",
        "        content=\"Remote Control Drone\",\n",
        "        meta={\"units\": 1542, \"origin\": \"Amazon\", \"description\": \"Amazon\"},\n",
        "    ),\n",
        "    Document(\n",
        "        content=\"Painted Rocking Horse\",\n",
        "        meta={\"units\": 93, \"origin\": \"handmade\", \"description\": \"Handmade\"},\n",
        "    ),\n",
        "    Document(\n",
        "        content=\"Science Experiment Kit\",\n",
        "        meta={\"units\": 2077, \"origin\": \"Amazon\", \"description\": \"Amazon\"},\n",
        "    ),\n",
        "    Document(\n",
        "        content=\"Miniature Dollhouse\",\n",
        "        meta={\"units\": 110, \"origin\": \"handmade\", \"description\": \"Handmade\"},\n",
        "    ),\n",
        "    Document(\n",
        "        content=\"Nerf Blaster\",\n",
        "        meta={\"units\": 2731, \"origin\": \"Amazon\", \"description\": \"Amazon\"},\n",
        "    ),\n",
        "    Document(\n",
        "        content=\"Interactive Robot Pet\",\n",
        "        meta={\"units\": 1394, \"origin\": \"Amazon\", \"description\": \"Amazon\"},\n",
        "    ),\n",
        "]"
      ]
    },
    {
      "cell_type": "code",
      "execution_count": 6,
      "metadata": {
        "colab": {
          "base_uri": "https://localhost:8080/"
        },
        "id": "3IeHPXMVfI3B",
        "outputId": "934901c2-d879-401c-f2c5-4e87739fa0dc"
      },
      "outputs": [
        {
          "data": {
            "text/plain": [
              "12"
            ]
          },
          "execution_count": 6,
          "metadata": {},
          "output_type": "execute_result"
        }
      ],
      "source": [
        "document_store.write_documents(documents)"
      ]
    },
    {
      "cell_type": "markdown",
      "metadata": {
        "id": "eMgGzNMpgeJl"
      },
      "source": [
        "## 4) Tools\n",
        "\n",
        "Our Santa's backoffice Agent need several Tools to work, each one with its specific action:\n",
        "- look up an item in inventory\n",
        "- add item to inventory\n",
        "- take item from inventory\n",
        "- inventory summary\n",
        "- get price of a new item\n",
        "- buy a new item\n",
        "\n",
        "We are going to create them, with your help.\n",
        "For an introduction to Tools, check out [Cookbook: Define & Run Tools](https://haystack.deepset.ai/cookbook/tools_support)."
      ]
    },
    {
      "cell_type": "markdown",
      "metadata": {
        "id": "oDwobQkKkAqa"
      },
      "source": [
        "### Lookup tool\n",
        "\n",
        "This is used to find if an item is present in the inventory.\n",
        "We will use a [`InMemoryBM25Retriever`](https://docs.haystack.deepset.ai/docs/inmemorybm25retriever) to allow also not exact matches."
      ]
    },
    {
      "cell_type": "code",
      "execution_count": 7,
      "metadata": {
        "id": "1v14MOGMfKrP"
      },
      "outputs": [
        {
          "name": "stderr",
          "output_type": "stream",
          "text": [
            "DEBUG - haystack.core.component.component -  Registering <class 'haystack.components.retrievers.filter_retriever.FilterRetriever'> as a component\n",
            "DEBUG - haystack.core.component.component -  Registered Component <class 'haystack.components.retrievers.filter_retriever.FilterRetriever'>\n",
            "DEBUG - haystack.core.component.component -  Registering <class 'haystack.components.retrievers.in_memory.bm25_retriever.InMemoryBM25Retriever'> as a component\n",
            "DEBUG - haystack.core.component.component -  Registered Component <class 'haystack.components.retrievers.in_memory.bm25_retriever.InMemoryBM25Retriever'>\n",
            "DEBUG - haystack.core.component.component -  Registering <class 'haystack.components.retrievers.in_memory.embedding_retriever.InMemoryEmbeddingRetriever'> as a component\n",
            "DEBUG - haystack.core.component.component -  Registered Component <class 'haystack.components.retrievers.in_memory.embedding_retriever.InMemoryEmbeddingRetriever'>\n",
            "DEBUG - haystack.core.component.component -  Registering <class 'haystack.components.retrievers.sentence_window_retriever.SentenceWindowRetriever'> as a component\n",
            "DEBUG - haystack.core.component.component -  Registered Component <class 'haystack.components.retrievers.sentence_window_retriever.SentenceWindowRetriever'>\n"
          ]
        }
      ],
      "source": [
        "from haystack_experimental.dataclasses import Tool\n",
        "from typing import Annotated, Literal\n",
        "\n",
        "from haystack.components.retrievers.in_memory import InMemoryBM25Retriever\n",
        "\n",
        "retriever = InMemoryBM25Retriever(document_store=document_store, top_k=3)"
      ]
    },
    {
      "cell_type": "markdown",
      "metadata": {
        "id": "qzf8-ZDqkaBY"
      },
      "source": [
        "After creating the retriever, we define a function that converts the search results to text, ready to be crunched by Language Models.\n",
        "\n",
        "As you can notice, we annotate the arguments in the function signature and provide a detailed docstring to make the conversion to a Tool seamless.\n",
        "To learn this trick, take a look at the [Newsletter Sending Agent notebook](https://haystack.deepset.ai/cookbook/newsletter-agent#extras-converting-tools)."
      ]
    },
    {
      "cell_type": "code",
      "execution_count": 8,
      "metadata": {
        "id": "FzYuvRRYfUle"
      },
      "outputs": [],
      "source": [
        "def lookup_item_in_inventory(item_name: Annotated[str, \"The item name to search\"]):\n",
        "    \"\"\"\n",
        "    Look up an item in the inventory.\n",
        "    \"\"\"\n",
        "    result = retriever.run(query=item_name)\n",
        "    text = \"\"\n",
        "    for doc in result[\"documents\"]:\n",
        "        text += f\"found item: {doc.content}; units: {doc.meta['units']}; matching score: {doc.score}\\n\"\n",
        "    return text"
      ]
    },
    {
      "cell_type": "code",
      "execution_count": 9,
      "metadata": {
        "id": "apYyXTGSf7kC"
      },
      "outputs": [
        {
          "name": "stdout",
          "output_type": "stream",
          "text": [
            "found item: LEGO Star Wars Set; units: 3456; matching score: 2.3976626592085233\n",
            "found item: Wooden Sailboat; units: 124; matching score: 1.3496776558458576\n",
            "found item: Nintendo Switch; units: 2189; matching score: 1.3496776558458576\n",
            "\n"
          ]
        }
      ],
      "source": [
        "print(lookup_item_in_inventory(item_name=\"lego\"))"
      ]
    },
    {
      "cell_type": "code",
      "execution_count": 10,
      "metadata": {
        "id": "a11KClpGf-qT"
      },
      "outputs": [],
      "source": [
        "lookup_item_in_inventory_tool = Tool.from_function(lookup_item_in_inventory)"
      ]
    },
    {
      "cell_type": "code",
      "execution_count": 11,
      "metadata": {
        "id": "B57fRNH1lrgP"
      },
      "outputs": [
        {
          "name": "stdout",
          "output_type": "stream",
          "text": [
            "found item: LEGO Star Wars Set; units: 3456; matching score: 2.3976626592085233\n",
            "found item: Wooden Sailboat; units: 124; matching score: 1.3496776558458576\n",
            "found item: Nintendo Switch; units: 2189; matching score: 1.3496776558458576\n",
            "\n"
          ]
        }
      ],
      "source": [
        "print(lookup_item_in_inventory_tool.invoke(item_name=\"lego\"))"
      ]
    },
    {
      "cell_type": "markdown",
      "metadata": {
        "id": "QPAhP-8YmFiw"
      },
      "source": [
        "### Add item tool\n",
        "\n",
        "Next, a tool to add an item to the inventory"
      ]
    },
    {
      "cell_type": "code",
      "execution_count": 12,
      "metadata": {
        "id": "bLRG6etMgQ_h"
      },
      "outputs": [],
      "source": [
        "from haystack.document_stores.types import DuplicatePolicy\n",
        "\n",
        "\n",
        "def add_item_to_inventory(\n",
        "    item_name: Annotated[str, \"The item name to add to inventory\"],\n",
        "    origin: Annotated[Literal[\"handmade\", \"Amazon\"], \"The origin of the item\"],\n",
        "    units: Annotated[int, \"The number of units to add to inventory\"] = 1,\n",
        "):\n",
        "    \"\"\"\n",
        "    Add an item to the inventory.\n",
        "    \"\"\"\n",
        "    found = document_store.filter_documents(\n",
        "        filters={\"field\": \"content\", \"operator\": \"==\", \"value\": item_name}\n",
        "    )\n",
        "    id_ = None\n",
        "    if found:\n",
        "        units += found[0].meta[\"units\"]\n",
        "        id_ = found[0].id\n",
        "\n",
        "    doc = Document(id=id_, content=item_name, meta={\"units\": units, \"origin\": origin})\n",
        "    return document_store.write_documents([doc], policy=DuplicatePolicy.OVERWRITE)"
      ]
    },
    {
      "cell_type": "code",
      "execution_count": 13,
      "metadata": {
        "id": "SdDyMTNug1rT"
      },
      "outputs": [],
      "source": [
        "add_item_to_inventory_tool = Tool.from_function(add_item_to_inventory)"
      ]
    },
    {
      "cell_type": "markdown",
      "metadata": {
        "id": "ZPvD2eFDmOBB"
      },
      "source": [
        "### Inventory Summary tool\n",
        "\n",
        "Now it's your turn.\n",
        "\n",
        "Let's start with a basic `inventory_summary` function and its `inventory_summary_tool`.\n",
        "\n",
        "This tool is expected to retrieve all items and return a textual summary/list as `\"name: <NAME>; units: <UNITS>; origin: <ORIGIN>\"` for each item."
      ]
    },
    {
      "cell_type": "code",
      "execution_count": 14,
      "metadata": {
        "id": "Nb2kXx-DhDGq"
      },
      "outputs": [],
      "source": [
        "def inventory_summary() -> str:\n",
        "    ### IMPLEMENT THE TOOL HERE ###\n",
        "    # Get all documents from the document store\n",
        "    all_items = document_store.filter_documents()\n",
        "\n",
        "    # If no items found, return empty inventory message\n",
        "    if not all_items:\n",
        "        return \"Inventory is empty\"\n",
        "\n",
        "    # Build summary for each item\n",
        "    summaries = []\n",
        "    for item in all_items:\n",
        "        summary = f\"name: {item.content}; units: {item.meta['units']}; origin: {item.meta['origin']}\"\n",
        "        summaries.append(summary)\n",
        "\n",
        "    # Join all summaries with newlines\n",
        "    return \"\\n\".join(summaries)"
      ]
    },
    {
      "cell_type": "code",
      "execution_count": 15,
      "metadata": {
        "id": "TWELJk4GhJQj"
      },
      "outputs": [],
      "source": [
        "inventory_summary_tool = Tool.from_function(inventory_summary)"
      ]
    },
    {
      "cell_type": "markdown",
      "metadata": {
        "id": "W_ngfnfHm-Wb"
      },
      "source": [
        "### Take from Inventory tool\n",
        "\n",
        "A more complex tool for you to build!\n",
        "\n",
        "This should take as input the `item_name` and the `units`.\n",
        "- it should try to fetch the item\n",
        "- if not present, return a message saying `\"item {item_name} not found in inventory\"`\n",
        "- if present and units > units in inventory, return a message saying `\"item {item_name} has only {units_in_inventory} units, cannot take {units}\"`\n",
        "- otherwise, remove the specified `units` from the inventory and return an explanatory message saying `\"item {item_name} has been updated in inventory\"`"
      ]
    },
    {
      "cell_type": "code",
      "execution_count": 16,
      "metadata": {
        "id": "jmwf7SkWhNTn"
      },
      "outputs": [],
      "source": [
        "def take_from_inventory(\n",
        "    ### IMPLEMENT THE TOOL HERE ###\n",
        "    item_name: Annotated[str, \"The item name to take from inventory\"],\n",
        "    units: Annotated[int, \"The number of units to take from inventory\"],\n",
        ") -> str:\n",
        "    \"\"\"\n",
        "    Remove specified units of an item from inventory.\n",
        "    Returns a status message about the operation.\n",
        "    \"\"\"\n",
        "    # Find the item in document store\n",
        "    found = document_store.filter_documents(\n",
        "        filters={\"field\": \"content\", \"operator\": \"==\", \"value\": item_name}\n",
        "    )\n",
        "\n",
        "    # Check if item exists\n",
        "    if not found:\n",
        "        return f\"item {item_name} not found in inventory\"\n",
        "\n",
        "    item = found[0]\n",
        "    current_units = item.meta[\"units\"]\n",
        "\n",
        "    # Check if we have enough units\n",
        "    if units > current_units:\n",
        "        return f\"item {item_name} has only {current_units} units, cannot take {units}\"\n",
        "\n",
        "    # Update inventory\n",
        "    remaining_units = current_units - units\n",
        "    if remaining_units == 0:\n",
        "        document_store.delete_documents([item.id])\n",
        "    else:\n",
        "        updated_doc = Document(\n",
        "            id=item.id,\n",
        "            content=item_name,\n",
        "            meta={\"units\": remaining_units, \"origin\": item.meta[\"origin\"]},\n",
        "        )\n",
        "        document_store.write_documents([updated_doc], policy=DuplicatePolicy.OVERWRITE)\n",
        "\n",
        "    return f\"item {item_name} has been updated in inventory\""
      ]
    },
    {
      "cell_type": "code",
      "execution_count": 17,
      "metadata": {
        "id": "iSebujGKhcqH"
      },
      "outputs": [],
      "source": [
        "take_from_inventory_tool = Tool.from_function(take_from_inventory)"
      ]
    },
    {
      "cell_type": "markdown",
      "metadata": {
        "id": "xjAcsClXoAo7"
      },
      "source": [
        "### Get Price tool\n",
        "\n",
        "This tool tries to find the Amazon price of the item in the web.\n",
        "\n",
        "In this case, the tool wraps a Web RAG Pipeline.\n",
        "The tool is given but you need to define the pipeline with [DuckduckgoApiWebSearch](https://haystack.deepset.ai/integrations/duckduckgo-api-websearch), [PromptBuilder](https://docs.haystack.deepset.ai/docs/promptbuilder) and [OpenAIGenerator](https://docs.haystack.deepset.ai/docs/openaigenerator).\n",
        "\n"
      ]
    },
    {
      "cell_type": "code",
      "execution_count": 18,
      "metadata": {
        "id": "tvbrb6XRhoYg"
      },
      "outputs": [
        {
          "name": "stderr",
          "output_type": "stream",
          "text": [
            "DEBUG - haystack.core.component.component -  Registering <class 'haystack.components.builders.answer_builder.AnswerBuilder'> as a component\n",
            "DEBUG - haystack.core.component.component -  Registered Component <class 'haystack.components.builders.answer_builder.AnswerBuilder'>\n",
            "DEBUG - haystack.core.component.component -  Registering <class 'haystack.components.builders.chat_prompt_builder.ChatPromptBuilder'> as a component\n",
            "DEBUG - haystack.core.component.component -  Registered Component <class 'haystack.components.builders.chat_prompt_builder.ChatPromptBuilder'>\n",
            "DEBUG - haystack.core.component.component -  Registering <class 'haystack.components.builders.prompt_builder.PromptBuilder'> as a component\n",
            "DEBUG - haystack.core.component.component -  Registered Component <class 'haystack.components.builders.prompt_builder.PromptBuilder'>\n",
            "DEBUG - haystack.core.component.component -  Registering <class 'haystack.components.generators.openai.OpenAIGenerator'> as a component\n",
            "DEBUG - haystack.core.component.component -  Registered Component <class 'haystack.components.generators.openai.OpenAIGenerator'>\n",
            "DEBUG - haystack.core.component.component -  Registering <class 'haystack.components.generators.azure.AzureOpenAIGenerator'> as a component\n",
            "DEBUG - haystack.core.component.component -  Registered Component <class 'haystack.components.generators.azure.AzureOpenAIGenerator'>\n",
            "DEBUG - haystack.core.component.component -  Registering <class 'haystack.components.generators.hugging_face_local.HuggingFaceLocalGenerator'> as a component\n",
            "DEBUG - haystack.core.component.component -  Registered Component <class 'haystack.components.generators.hugging_face_local.HuggingFaceLocalGenerator'>\n",
            "DEBUG - haystack.core.component.component -  Registering <class 'haystack.components.generators.hugging_face_api.HuggingFaceAPIGenerator'> as a component\n",
            "DEBUG - haystack.core.component.component -  Registered Component <class 'haystack.components.generators.hugging_face_api.HuggingFaceAPIGenerator'>\n",
            "DEBUG - haystack.core.component.component -  Registering <class 'haystack.components.generators.openai_dalle.DALLEImageGenerator'> as a component\n",
            "DEBUG - haystack.core.component.component -  Registered Component <class 'haystack.components.generators.openai_dalle.DALLEImageGenerator'>\n",
            "DEBUG - haystack.core.component.component -  Registering <class 'duckduckgo_api_haystack.duckduckgoapi.DuckduckgoApiWebSearch'> as a component\n",
            "DEBUG - haystack.core.component.component -  Registered Component <class 'duckduckgo_api_haystack.duckduckgoapi.DuckduckgoApiWebSearch'>\n",
            "DEBUG - haystack.core.pipeline.base -  Adding component 'search' (<duckduckgo_api_haystack.duckduckgoapi.DuckduckgoApiWebSearch object at 0x0000019DF8546B50>\n",
            "\n",
            "Inputs:\n",
            "  - query: str\n",
            "Outputs:\n",
            "  - documents: List[Document]\n",
            "  - links: List[str])\n",
            "DEBUG - haystack.core.pipeline.base -  Adding component 'prompt_builder' (<haystack.components.builders.prompt_builder.PromptBuilder object at 0x0000019DA01B0890>\n",
            "\n",
            "Inputs:\n",
            "  - query: Any\n",
            "  - documents: Any\n",
            "  - template: Optional[str]\n",
            "  - template_variables: Optional[Dict[str, Any]]\n",
            "Outputs:\n",
            "  - prompt: str)\n",
            "DEBUG - haystack.core.pipeline.base -  Adding component 'llm' (<haystack.components.generators.openai.OpenAIGenerator object at 0x0000019DA0134B90>\n",
            "\n",
            "Inputs:\n",
            "  - prompt: str\n",
            "  - system_prompt: Optional[str]\n",
            "  - streaming_callback: Optional[Callable[]]\n",
            "  - generation_kwargs: Optional[Dict[str, Any]]\n",
            "Outputs:\n",
            "  - replies: List[str]\n",
            "  - meta: List[Dict[str, Any]])\n",
            "DEBUG - haystack.core.pipeline.base -  Connecting 'search.documents' to 'prompt_builder.documents'\n",
            "DEBUG - haystack.core.pipeline.base -  Connecting 'prompt_builder.prompt' to 'llm.prompt'\n"
          ]
        },
        {
          "data": {
            "text/plain": [
              "<haystack.core.pipeline.pipeline.Pipeline object at 0x0000019DF846EA90>\n",
              "🚅 Components\n",
              "  - search: DuckduckgoApiWebSearch\n",
              "  - prompt_builder: PromptBuilder\n",
              "  - llm: OpenAIGenerator\n",
              "🛤️ Connections\n",
              "  - search.documents -> prompt_builder.documents (List[Document])\n",
              "  - prompt_builder.prompt -> llm.prompt (str)"
            ]
          },
          "execution_count": 18,
          "metadata": {},
          "output_type": "execute_result"
        }
      ],
      "source": [
        "from haystack import Pipeline\n",
        "from haystack.components.builders.prompt_builder import PromptBuilder\n",
        "from haystack.components.generators import OpenAIGenerator\n",
        "from haystack.utils import Secret\n",
        "from duckduckgo_api_haystack import DuckduckgoApiWebSearch\n",
        "from typing import Annotated\n",
        "\n",
        "# Define pipeline\n",
        "get_price_pipe = Pipeline(max_runs_per_component=1)\n",
        "\n",
        "websearch = DuckduckgoApiWebSearch(top_k=10, timeout=10, backend='html')\n",
        "\n",
        "prompt_template = \"\"\"\n",
        "    Given these documents, answer the question.\\nDocuments:\n",
        "    {% for doc in documents %}\n",
        "        {{ doc.content }}\n",
        "    {% endfor %}\n",
        "\n",
        "    \\nQuestion: {{query}}\n",
        "    \\nAnswer:\n",
        "    \"\"\"\n",
        "\n",
        "generator = OpenAIGenerator(\n",
        "    model=\"gpt-4o-mini\", api_key=Secret.from_env_var(\"OPENAI_API_KEY\")\n",
        ")\n",
        "\n",
        "# Add components\n",
        "get_price_pipe.add_component(\"search\", websearch)\n",
        "get_price_pipe.add_component(\"prompt_builder\", PromptBuilder(template=prompt_template))\n",
        "get_price_pipe.add_component(\"llm\", generator)\n",
        "\n",
        "# Connect components\n",
        "get_price_pipe.connect(\"search.documents\", \"prompt_builder.documents\")\n",
        "get_price_pipe.connect(\"prompt_builder.prompt\", \"llm.prompt\")"
      ]
    },
    {
      "cell_type": "code",
      "execution_count": 19,
      "metadata": {
        "id": "x0epLB6AiYtj"
      },
      "outputs": [],
      "source": [
        "def get_price(item_name: Annotated[str, \"The item name to search\"]):\n",
        "    \"\"\"\n",
        "    Search the web to get the price of an item on Amazon\n",
        "    \"\"\"\n",
        "\n",
        "    search_query = f\"price of {item_name} on Amazon\"\n",
        "    question = f\"What is the price of {item_name} on Amazon? Respond with minimal item name and minimum price.\"\n",
        "\n",
        "    data = {\"search\": {\"query\": search_query}, \"prompt_builder\": {\"query\": question}}\n",
        "\n",
        "    return get_price_pipe.run(data=data)[\"llm\"][\"replies\"][0]"
      ]
    },
    {
      "cell_type": "code",
      "execution_count": 20,
      "metadata": {
        "colab": {
          "base_uri": "https://localhost:8080/",
          "height": 35
        },
        "id": "zk2GbXM3iTDc",
        "outputId": "10f1c3a2-47e9-4340-a04d-152a9277f128"
      },
      "outputs": [
        {
          "name": "stderr",
          "output_type": "stream",
          "text": [
            "INFO - haystack.core.pipeline.pipeline -  Running component search\n",
            "DEBUG - haystack.tracing.logging_tracer -  Operation: haystack.component.run\n",
            "DEBUG - haystack.tracing.logging_tracer -  \u001b[1;34mhaystack.component.name=search\u001b[0m\n",
            "DEBUG - haystack.tracing.logging_tracer -  haystack.component.type=DuckduckgoApiWebSearch\u001b[0m\n",
            "DEBUG - haystack.tracing.logging_tracer -  haystack.component.input_types={'query': 'str'}\u001b[0m\n",
            "DEBUG - haystack.tracing.logging_tracer -  haystack.component.input_spec={'query': {'type': 'str', 'senders': []}}\u001b[0m\n",
            "DEBUG - haystack.tracing.logging_tracer -  haystack.component.output_spec={'documents': {'type': 'typing.List[haystack.dataclasses.document.Document]', 'receivers': ['prompt_builder']}, 'links': {'type': 'typing.List[str]', 'receivers': []}}\u001b[0m\n",
            "DEBUG - haystack.tracing.logging_tracer -  \u001b[1;31mhaystack.component.input={'query': 'price of barbie dollhouse on Amazon'}\u001b[0m\n",
            "DEBUG - haystack.tracing.logging_tracer -  haystack.component.visits=1\u001b[0m\n",
            "DEBUG - haystack.tracing.logging_tracer -  haystack.component.output={'documents': [Document(id=2f97300a41b76a973973148d5dc4d4b5c2a349f7fa633cb4e656b835c83ad99e, content: 'Barbie Doll House Playset, Getaway House with 11 Accessories Including 2 Chairs, 4 Play Areas & 360-...', meta: {'title': 'Amazon.com: Barbie Doll Houses', 'link': 'https://www.amazon.com/barbie-doll-houses/s?k=barbie+doll+houses'}), Document(id=256c89f243a61d5b80518c9924ed3e0011006a3e7b15422d5ef83e18eedd57b4, content: 'Barbie DreamHouse Dollhouse with 75+ Accessories and Wheelchair Accessible Elevator (Amazon Exclusiv...', meta: {'title': 'Amazon.com: Barbie DreamHouse Dollhouse with 75+ Accessories and ...', 'link': 'https://www.amazon.com/Barbie-DreamHouse-Furniture-Accessories-Wheelchair-Accessible/dp/B08V1R73H9'}), Document(id=18778157dbe04476f0c356a6ec1c080a7bdb4974948fc9fe8af3b36596f1a67c, content: 'The List Price is the suggested retail price of a new product as provided by a manufacturer, supplie...', meta: {'title': 'Amazon.com: Barbie DreamHouse, Doll House Playset with 75+ Pieces ...', 'link': 'https://www.amazon.com/Barbie-Dreamhouse-3-Story-Playset-Elevator/dp/B0BLJTJ38M'}), Document(id=23219a5de4ff4c6cc968924134d1210b10580b144ff482f375f98324060f3376, content: 'Barbie DreamHouse, Doll House Playset with 75+ Furniture & Accessories, 10 Play Areas, Lights & Soun...', meta: {'title': 'Barbie DreamHouse, Doll House Playset with 70+ Accessories ... - Amazon.ca', 'link': 'https://www.amazon.ca/Barbie-Dreamhouse-Wheelchair-Accessible-Accessories/dp/B07Y9C848Y'}), Document(id=51a61d8b3ef535662aac90d7939b676b858189aa41a83c14544c89d958a93aff, content: 'Barbie Doll House Playset, Getaway House with 11 Accessories Including 2 Chairs, 4 Play Areas & 360-...', meta: {'title': 'Amazon.com: Barbie Doll Houses For Sale', 'link': 'https://www.amazon.com/barbie-doll-houses-sale/s?k=barbie+doll+houses+for+sale'}), Document(id=217b728303216661c107985c28881752422d6a2646c9b44b5f358cc9df38c95f, content: 'Barbie Doll House Playset, Malibu House with 25+ Themed Furniture & Accessories, 6 Rooms Including 2...', meta: {'title': 'Barbie DreamHouse, Doll House Playset with 75+ Furniture ... - Amazon.ca', 'link': 'https://www.amazon.ca/Barbie-DreamHouse-Dollhouse-Accessories-Furniture/dp/B08V1R73H9'}), Document(id=8420010bb026ab4b46e0eca667597c1abe3af4bdfcfad378dbd69886f62ef708, content: 'Shop Barbie Dollhouse Playset with Barbie Doll & House with 2 Levels & 4 Play Areas, Fully Furnished...', meta: {'title': 'Barbie Dollhouse Playset with Barbie Doll & House with 2 ... - Amazon.co.uk', 'link': 'https://www.amazon.co.uk/Barbie/dp/B0CQKX7FZZ'}), Document(id=90083dd222a0f6e8a4684d645c3919a706b48cf64ad6f20ce74e262fc0c8e003, content: 'Amazon.co.uk: barbie doll house. ... Exclusive Prime price. Ages: 36 months - 12 years. ... Barbie D...', meta: {'title': '1-48 of 156 results for \"barbie doll house\" - Amazon.co.uk', 'link': 'https://www.amazon.co.uk/barbie-doll-house/s?k=barbie+doll+house'}), Document(id=22a7e1572656de7a9bbdc2b3b0211b4838e4089fad5e18750eb19082d9934f55, content: 'Barbie DreamHouse Dollhouse with 70+ Accessories, Working Elevator & Slide, Lights & Sounds + Barbie...', meta: {'title': 'Amazon.com: Barbie DreamHouse Dollhouse with 70+ Accessories, Working ...', 'link': 'https://www.amazon.com/Barbie-DreamHouse-Dollhouse-Accessories-Elevator/dp/B0CS88FSBK'}), Document(id=ce05e232984fe150d0b8d9b780dd3f562677237f873d14d924faad70a9225240, content: 'Delight kids and collectors with must-have Barbie toys! Shop our collection of popular dolls, playse...', meta: {'title': 'Top Barbie Toys & Gifts for Fans of All Ages | Mattel', 'link': 'https://shop.mattel.com/collections/top-barbie-gifts'})], 'links': ['https://www.amazon.com/barbie-doll-houses/s?k=barbie+doll+houses', 'https://www.amazon.com/Barbie-DreamHouse-Furniture-Accessories-Wheelchair-Accessible/dp/B08V1R73H9', 'https://www.amazon.com/Barbie-Dreamhouse-3-Story-Playset-Elevator/dp/B0BLJTJ38M', 'https://www.amazon.ca/Barbie-Dreamhouse-Wheelchair-Accessible-Accessories/dp/B07Y9C848Y', 'https://www.amazon.com/barbie-doll-houses-sale/s?k=barbie+doll+houses+for+sale', 'https://www.amazon.ca/Barbie-DreamHouse-Dollhouse-Accessories-Furniture/dp/B08V1R73H9', 'https://www.amazon.co.uk/Barbie/dp/B0CQKX7FZZ', 'https://www.amazon.co.uk/barbie-doll-house/s?k=barbie+doll+house', 'https://www.amazon.com/Barbie-DreamHouse-Dollhouse-Accessories-Elevator/dp/B0CS88FSBK', 'https://shop.mattel.com/collections/top-barbie-gifts']}\u001b[0m\n",
            "INFO - haystack.core.pipeline.pipeline -  Running component prompt_builder\n",
            "DEBUG - haystack.tracing.logging_tracer -  Operation: haystack.component.run\n",
            "DEBUG - haystack.tracing.logging_tracer -  \u001b[1;34mhaystack.component.name=prompt_builder\u001b[0m\n",
            "DEBUG - haystack.tracing.logging_tracer -  haystack.component.type=PromptBuilder\u001b[0m\n",
            "DEBUG - haystack.tracing.logging_tracer -  haystack.component.input_types={'query': 'str', 'template': 'NoneType', 'template_variables': 'NoneType', 'documents': 'list'}\u001b[0m\n",
            "DEBUG - haystack.tracing.logging_tracer -  haystack.component.input_spec={'query': {'type': 'Any', 'senders': []}, 'documents': {'type': 'Any', 'senders': ['search']}, 'template': {'type': 'typing.Optional[str]', 'senders': []}, 'template_variables': {'type': 'typing.Optional[typing.Dict[str, typing.Any]]', 'senders': []}}\u001b[0m\n",
            "DEBUG - haystack.tracing.logging_tracer -  haystack.component.output_spec={'prompt': {'type': 'str', 'receivers': ['llm']}}\u001b[0m\n",
            "DEBUG - haystack.tracing.logging_tracer -  \u001b[1;31mhaystack.component.input={'query': 'What is the price of barbie dollhouse on Amazon? Respond with minimal item name and minimum price.', 'template': None, 'template_variables': None, 'documents': [Document(id=2f97300a41b76a973973148d5dc4d4b5c2a349f7fa633cb4e656b835c83ad99e, content: 'Barbie Doll House Playset, Getaway House with 11 Accessories Including 2 Chairs, 4 Play Areas & 360-...', meta: {'title': 'Amazon.com: Barbie Doll Houses', 'link': 'https://www.amazon.com/barbie-doll-houses/s?k=barbie+doll+houses'}), Document(id=256c89f243a61d5b80518c9924ed3e0011006a3e7b15422d5ef83e18eedd57b4, content: 'Barbie DreamHouse Dollhouse with 75+ Accessories and Wheelchair Accessible Elevator (Amazon Exclusiv...', meta: {'title': 'Amazon.com: Barbie DreamHouse Dollhouse with 75+ Accessories and ...', 'link': 'https://www.amazon.com/Barbie-DreamHouse-Furniture-Accessories-Wheelchair-Accessible/dp/B08V1R73H9'}), Document(id=18778157dbe04476f0c356a6ec1c080a7bdb4974948fc9fe8af3b36596f1a67c, content: 'The List Price is the suggested retail price of a new product as provided by a manufacturer, supplie...', meta: {'title': 'Amazon.com: Barbie DreamHouse, Doll House Playset with 75+ Pieces ...', 'link': 'https://www.amazon.com/Barbie-Dreamhouse-3-Story-Playset-Elevator/dp/B0BLJTJ38M'}), Document(id=23219a5de4ff4c6cc968924134d1210b10580b144ff482f375f98324060f3376, content: 'Barbie DreamHouse, Doll House Playset with 75+ Furniture & Accessories, 10 Play Areas, Lights & Soun...', meta: {'title': 'Barbie DreamHouse, Doll House Playset with 70+ Accessories ... - Amazon.ca', 'link': 'https://www.amazon.ca/Barbie-Dreamhouse-Wheelchair-Accessible-Accessories/dp/B07Y9C848Y'}), Document(id=51a61d8b3ef535662aac90d7939b676b858189aa41a83c14544c89d958a93aff, content: 'Barbie Doll House Playset, Getaway House with 11 Accessories Including 2 Chairs, 4 Play Areas & 360-...', meta: {'title': 'Amazon.com: Barbie Doll Houses For Sale', 'link': 'https://www.amazon.com/barbie-doll-houses-sale/s?k=barbie+doll+houses+for+sale'}), Document(id=217b728303216661c107985c28881752422d6a2646c9b44b5f358cc9df38c95f, content: 'Barbie Doll House Playset, Malibu House with 25+ Themed Furniture & Accessories, 6 Rooms Including 2...', meta: {'title': 'Barbie DreamHouse, Doll House Playset with 75+ Furniture ... - Amazon.ca', 'link': 'https://www.amazon.ca/Barbie-DreamHouse-Dollhouse-Accessories-Furniture/dp/B08V1R73H9'}), Document(id=8420010bb026ab4b46e0eca667597c1abe3af4bdfcfad378dbd69886f62ef708, content: 'Shop Barbie Dollhouse Playset with Barbie Doll & House with 2 Levels & 4 Play Areas, Fully Furnished...', meta: {'title': 'Barbie Dollhouse Playset with Barbie Doll & House with 2 ... - Amazon.co.uk', 'link': 'https://www.amazon.co.uk/Barbie/dp/B0CQKX7FZZ'}), Document(id=90083dd222a0f6e8a4684d645c3919a706b48cf64ad6f20ce74e262fc0c8e003, content: 'Amazon.co.uk: barbie doll house. ... Exclusive Prime price. Ages: 36 months - 12 years. ... Barbie D...', meta: {'title': '1-48 of 156 results for \"barbie doll house\" - Amazon.co.uk', 'link': 'https://www.amazon.co.uk/barbie-doll-house/s?k=barbie+doll+house'}), Document(id=22a7e1572656de7a9bbdc2b3b0211b4838e4089fad5e18750eb19082d9934f55, content: 'Barbie DreamHouse Dollhouse with 70+ Accessories, Working Elevator & Slide, Lights & Sounds + Barbie...', meta: {'title': 'Amazon.com: Barbie DreamHouse Dollhouse with 70+ Accessories, Working ...', 'link': 'https://www.amazon.com/Barbie-DreamHouse-Dollhouse-Accessories-Elevator/dp/B0CS88FSBK'}), Document(id=ce05e232984fe150d0b8d9b780dd3f562677237f873d14d924faad70a9225240, content: 'Delight kids and collectors with must-have Barbie toys! Shop our collection of popular dolls, playse...', meta: {'title': 'Top Barbie Toys & Gifts for Fans of All Ages | Mattel', 'link': 'https://shop.mattel.com/collections/top-barbie-gifts'})]}\u001b[0m\n",
            "DEBUG - haystack.tracing.logging_tracer -  haystack.component.visits=1\u001b[0m\n",
            "DEBUG - haystack.tracing.logging_tracer -  haystack.component.output={'prompt': '\\n    Given these documents, answer the question.\\nDocuments:\\n    \\n        Barbie Doll House Playset, Getaway House with 11 Accessories Including 2 Chairs, 4 Play Areas & 360-degree Play. 4.6 out of 5 stars. 168. 5K+ bought in past month. ... Lights & Sounds, Wheelchair-Accessible Elevator (Amazon Exclusive) #1 Top Rated. 4.8 out of 5 stars. 15,042. 6K+ bought in past month. $224.99 $ 224. 99. FREE delivery. Ages: 3 ...\\n    \\n        Barbie DreamHouse Dollhouse with 75+ Accessories and Wheelchair Accessible Elevator (Amazon Exclusive) + Barbie Convertible 2-Seater Vehicle Visit the Barbie Store 4.8 4.8 out of 5 stars 15,046 ratings\\n    \\n        The List Price is the suggested retail price of a new product as provided by a manufacturer, supplier, or seller. Except for books, Amazon will display a List Price if the product was purchased by customers on Amazon or offered by other retailers at or above the List Price in at least the past 90 days. ... Amazon.com: Barbie DreamHouse, Doll ...\\n    \\n        Barbie DreamHouse, Doll House Playset with 75+ Furniture & Accessories, 10 Play Areas, Lights & Sounds, Wheelchair-Accessible Elevator 4.8 out of 5 stars 14,572 1 offer from $30419 $ 304 19\\n    \\n        Barbie Doll House Playset, Getaway House with 11 Accessories Including 2 Chairs, 4 Play Areas & 360-degree Play. 4.5 out of 5 stars. 167. 5K+ bought in past month. ... Lights & Sounds, Wheelchair-Accessible Elevator (Amazon Exclusive) #1 Top Rated. 4.8 out of 5 stars. 15,042. 6K+ bought in past month. $224.99 $ 224. 99. FREE delivery. Ages: 3 ...\\n    \\n        Barbie Doll House Playset, Malibu House with 25+ Themed Furniture & Accessories, 6 Rooms Including 2-In-1 Transformations 9,363. $189.90 $ 189. 90. Next page. ... I got it for the sale price but I do think it\\'s a little over priced or should include some miniature Barbie\\'s or more accessories. I loved the dream house particularly with the ...\\n    \\n        Shop Barbie Dollhouse Playset with Barbie Doll & House with 2 Levels & 4 Play Areas, Fully Furnished, with Pet Puppy & Accessories, Gift for Kids 3 Years Old and Up, HHY40. ... For Amazon Fresh offers, the price is calculated as the median price offered locally for at least seven days of the last 90 days (excluding promotional prices). Learn ...\\n    \\n        Amazon.co.uk: barbie doll house. ... Exclusive Prime price. Ages: 36 months - 12 years. ... Barbie Dollhouse Playset with Barbie Doll & House with 2 Levels & 4 Play Areas, Fully Furnished, with Pet Puppy & Accessories, Gift for Kids 3 Years Old and Up, HCD48. 4.6 out of 5 stars 471.\\n    \\n        Barbie DreamHouse Dollhouse with 70+ Accessories, Working Elevator & Slide, Lights & Sounds + Barbie Car \"Electric Vehicle\" with Charging Station and Plug Visit the Barbie Store 4.7 4.7 out of 5 stars 10,082 ratings\\n    \\n        Delight kids and collectors with must-have Barbie toys! Shop our collection of popular dolls, playsets, fashions, and accessories to find the perfect presents. ... Dolls & Dollhouses Shop All ... Top Hot Wheels Gifts for the Holidays Barbie Best Sellers Top Rated Fisher-Price Toys Top Gifts for Girls and Boys Mattel Stocking Stuffers.\\n    \\n\\n    \\nQuestion: What is the price of barbie dollhouse on Amazon? Respond with minimal item name and minimum price.\\n    \\nAnswer:\\n    '}\u001b[0m\n",
            "INFO - haystack.core.pipeline.pipeline -  Running component llm\n",
            "DEBUG - haystack.tracing.logging_tracer -  Operation: haystack.component.run\n",
            "DEBUG - haystack.tracing.logging_tracer -  \u001b[1;34mhaystack.component.name=llm\u001b[0m\n",
            "DEBUG - haystack.tracing.logging_tracer -  haystack.component.type=OpenAIGenerator\u001b[0m\n",
            "DEBUG - haystack.tracing.logging_tracer -  haystack.component.input_types={'system_prompt': 'NoneType', 'streaming_callback': 'NoneType', 'generation_kwargs': 'NoneType', 'prompt': 'str'}\u001b[0m\n",
            "DEBUG - haystack.tracing.logging_tracer -  haystack.component.input_spec={'prompt': {'type': 'str', 'senders': ['prompt_builder']}, 'system_prompt': {'type': 'typing.Optional[str]', 'senders': []}, 'streaming_callback': {'type': 'typing.Optional[typing.Callable[[haystack.dataclasses.streaming_chunk.StreamingChunk], NoneType]]', 'senders': []}, 'generation_kwargs': {'type': 'typing.Optional[typing.Dict[str, typing.Any]]', 'senders': []}}\u001b[0m\n",
            "DEBUG - haystack.tracing.logging_tracer -  haystack.component.output_spec={'replies': {'type': 'typing.List[str]', 'receivers': []}, 'meta': {'type': 'typing.List[typing.Dict[str, typing.Any]]', 'receivers': []}}\u001b[0m\n",
            "DEBUG - haystack.tracing.logging_tracer -  \u001b[1;31mhaystack.component.input={'system_prompt': None, 'streaming_callback': None, 'generation_kwargs': None, 'prompt': '\\n    Given these documents, answer the question.\\nDocuments:\\n    \\n        Barbie Doll House Playset, Getaway House with 11 Accessories Including 2 Chairs, 4 Play Areas & 360-degree Play. 4.6 out of 5 stars. 168. 5K+ bought in past month. ... Lights & Sounds, Wheelchair-Accessible Elevator (Amazon Exclusive) #1 Top Rated. 4.8 out of 5 stars. 15,042. 6K+ bought in past month. $224.99 $ 224. 99. FREE delivery. Ages: 3 ...\\n    \\n        Barbie DreamHouse Dollhouse with 75+ Accessories and Wheelchair Accessible Elevator (Amazon Exclusive) + Barbie Convertible 2-Seater Vehicle Visit the Barbie Store 4.8 4.8 out of 5 stars 15,046 ratings\\n    \\n        The List Price is the suggested retail price of a new product as provided by a manufacturer, supplier, or seller. Except for books, Amazon will display a List Price if the product was purchased by customers on Amazon or offered by other retailers at or above the List Price in at least the past 90 days. ... Amazon.com: Barbie DreamHouse, Doll ...\\n    \\n        Barbie DreamHouse, Doll House Playset with 75+ Furniture & Accessories, 10 Play Areas, Lights & Sounds, Wheelchair-Accessible Elevator 4.8 out of 5 stars 14,572 1 offer from $30419 $ 304 19\\n    \\n        Barbie Doll House Playset, Getaway House with 11 Accessories Including 2 Chairs, 4 Play Areas & 360-degree Play. 4.5 out of 5 stars. 167. 5K+ bought in past month. ... Lights & Sounds, Wheelchair-Accessible Elevator (Amazon Exclusive) #1 Top Rated. 4.8 out of 5 stars. 15,042. 6K+ bought in past month. $224.99 $ 224. 99. FREE delivery. Ages: 3 ...\\n    \\n        Barbie Doll House Playset, Malibu House with 25+ Themed Furniture & Accessories, 6 Rooms Including 2-In-1 Transformations 9,363. $189.90 $ 189. 90. Next page. ... I got it for the sale price but I do think it\\'s a little over priced or should include some miniature Barbie\\'s or more accessories. I loved the dream house particularly with the ...\\n    \\n        Shop Barbie Dollhouse Playset with Barbie Doll & House with 2 Levels & 4 Play Areas, Fully Furnished, with Pet Puppy & Accessories, Gift for Kids 3 Years Old and Up, HHY40. ... For Amazon Fresh offers, the price is calculated as the median price offered locally for at least seven days of the last 90 days (excluding promotional prices). Learn ...\\n    \\n        Amazon.co.uk: barbie doll house. ... Exclusive Prime price. Ages: 36 months - 12 years. ... Barbie Dollhouse Playset with Barbie Doll & House with 2 Levels & 4 Play Areas, Fully Furnished, with Pet Puppy & Accessories, Gift for Kids 3 Years Old and Up, HCD48. 4.6 out of 5 stars 471.\\n    \\n        Barbie DreamHouse Dollhouse with 70+ Accessories, Working Elevator & Slide, Lights & Sounds + Barbie Car \"Electric Vehicle\" with Charging Station and Plug Visit the Barbie Store 4.7 4.7 out of 5 stars 10,082 ratings\\n    \\n        Delight kids and collectors with must-have Barbie toys! Shop our collection of popular dolls, playsets, fashions, and accessories to find the perfect presents. ... Dolls & Dollhouses Shop All ... Top Hot Wheels Gifts for the Holidays Barbie Best Sellers Top Rated Fisher-Price Toys Top Gifts for Girls and Boys Mattel Stocking Stuffers.\\n    \\n\\n    \\nQuestion: What is the price of barbie dollhouse on Amazon? Respond with minimal item name and minimum price.\\n    \\nAnswer:\\n    '}\u001b[0m\n",
            "DEBUG - haystack.tracing.logging_tracer -  haystack.component.visits=1\u001b[0m\n",
            "DEBUG - haystack.tracing.logging_tracer -  haystack.component.output={'replies': ['Barbie DreamHouse, $304.19'], 'meta': [{'model': 'gpt-4o-mini-2024-07-18', 'index': 0, 'finish_reason': 'stop', 'usage': {'completion_tokens': 9, 'prompt_tokens': 833, 'total_tokens': 842, 'completion_tokens_details': CompletionTokensDetails(accepted_prediction_tokens=0, audio_tokens=0, reasoning_tokens=0, rejected_prediction_tokens=0), 'prompt_tokens_details': PromptTokensDetails(audio_tokens=0, cached_tokens=0)}}]}\u001b[0m\n",
            "DEBUG - haystack.tracing.logging_tracer -  Operation: haystack.pipeline.run\n",
            "DEBUG - haystack.tracing.logging_tracer -  haystack.pipeline.input_data={'search': {'query': 'price of barbie dollhouse on Amazon'}, 'prompt_builder': {'query': 'What is the price of barbie dollhouse on Amazon? Respond with minimal item name and minimum price.', 'template': None, 'template_variables': None}}\u001b[0m\n",
            "DEBUG - haystack.tracing.logging_tracer -  haystack.pipeline.output_data={'search': {'links': ['https://www.amazon.com/barbie-doll-houses/s?k=barbie+doll+houses', 'https://www.amazon.com/Barbie-DreamHouse-Furniture-Accessories-Wheelchair-Accessible/dp/B08V1R73H9', 'https://www.amazon.com/Barbie-Dreamhouse-3-Story-Playset-Elevator/dp/B0BLJTJ38M', 'https://www.amazon.ca/Barbie-Dreamhouse-Wheelchair-Accessible-Accessories/dp/B07Y9C848Y', 'https://www.amazon.com/barbie-doll-houses-sale/s?k=barbie+doll+houses+for+sale', 'https://www.amazon.ca/Barbie-DreamHouse-Dollhouse-Accessories-Furniture/dp/B08V1R73H9', 'https://www.amazon.co.uk/Barbie/dp/B0CQKX7FZZ', 'https://www.amazon.co.uk/barbie-doll-house/s?k=barbie+doll+house', 'https://www.amazon.com/Barbie-DreamHouse-Dollhouse-Accessories-Elevator/dp/B0CS88FSBK', 'https://shop.mattel.com/collections/top-barbie-gifts']}, 'llm': {'replies': ['Barbie DreamHouse, $304.19'], 'meta': [{'model': 'gpt-4o-mini-2024-07-18', 'index': 0, 'finish_reason': 'stop', 'usage': {'completion_tokens': 9, 'prompt_tokens': 833, 'total_tokens': 842, 'completion_tokens_details': CompletionTokensDetails(accepted_prediction_tokens=0, audio_tokens=0, reasoning_tokens=0, rejected_prediction_tokens=0), 'prompt_tokens_details': PromptTokensDetails(audio_tokens=0, cached_tokens=0)}}]}}\u001b[0m\n",
            "DEBUG - haystack.tracing.logging_tracer -  haystack.pipeline.metadata={}\u001b[0m\n",
            "DEBUG - haystack.tracing.logging_tracer -  haystack.pipeline.max_runs_per_component=100\u001b[0m\n"
          ]
        },
        {
          "data": {
            "text/plain": [
              "'Barbie DreamHouse, $304.19'"
            ]
          },
          "execution_count": 20,
          "metadata": {},
          "output_type": "execute_result"
        }
      ],
      "source": [
        "get_price(\"barbie dollhouse\")"
      ]
    },
    {
      "cell_type": "code",
      "execution_count": 21,
      "metadata": {
        "id": "mCtifdTBFiAj"
      },
      "outputs": [],
      "source": [
        "get_price_tool = Tool.from_function(get_price)"
      ]
    },
    {
      "cell_type": "markdown",
      "metadata": {
        "id": "DOXel_47pDCU"
      },
      "source": [
        "### Buy from Amazon tool\n",
        "\n",
        "This tool is ready to use.\n",
        "\n",
        "It asks the user for confirmation and then simulates a purchase on Amazon. It also adds items to the inventory."
      ]
    },
    {
      "cell_type": "code",
      "execution_count": 22,
      "metadata": {
        "id": "wld2pQKGFtVD"
      },
      "outputs": [],
      "source": [
        "def buy_from_amazon(\n",
        "    item_name: Annotated[str, \"The item name to search\"],\n",
        "    price: Annotated[float, \"The price of the item to buy\"],\n",
        "    units: Annotated[int, \"The number of units to buy\"] = 1,\n",
        "):\n",
        "    \"\"\"\n",
        "\n",
        "\n",
        "\n",
        "\n",
        "    Buy an item from Amazon and place it in the inventory.\n",
        "    \"\"\"\n",
        "\n",
        "\n",
        "    total_price = units * price\n",
        "\n",
        "\n",
        "    confirm = input(\n",
        "        f\"You are about to buy {units} units of {item_name} from Amazon for a total of ${total_price}. Are you sure you want to continue? (y/n)\"\n",
        "    )\n",
        "\n",
        "    if confirm == \"y\":\n",
        "\n",
        "        # simulate actually buying from Amazon\n",
        "\n",
        "        add_item_to_inventory(item_name, units=units, origin=\"Amazon\")\n",
        "\n",
        "        return \"transaction completed and item added to inventory\"\n",
        "\n",
        "    return \"transaction cancelled\""
      ]
    },
    {
      "cell_type": "code",
      "execution_count": 23,
      "metadata": {
        "id": "NExtECudOas3"
      },
      "outputs": [],
      "source": [
        "buy_from_amazon_tool = Tool.from_function(buy_from_amazon)"
      ]
    },
    {
      "cell_type": "code",
      "execution_count": null,
      "metadata": {
        "colab": {
          "base_uri": "https://localhost:8080/",
          "height": 53
        },
        "id": "im77S0CjOk0B",
        "outputId": "a85b424c-0c74-40ec-dc01-58f510a27002"
      },
      "outputs": [
        {
          "data": {
            "text/plain": [
              "'transaction completed and item added to inventory'"
            ]
          },
          "execution_count": 25,
          "metadata": {},
          "output_type": "execute_result"
        }
      ],
      "source": [
        "buy_from_amazon(\n",
        "    item_name=\"Playstation 5\", price=500.00, units=5\n",
        ")  # using input y or n and hit ENTER"
      ]
    },
    {
      "cell_type": "markdown",
      "metadata": {
        "id": "li21BqZesFft"
      },
      "source": [
        "## 5) Main loop\n",
        "\n",
        "This part controls the flow of the application.\n",
        "It is quite simple and you can use to see the Agent in action and check that everything is working properly. For the Agent, you will use the experimental versions of `OpenAIChatGenerator` and `ChatMessage`.\n",
        "\n",
        "**Note:** You can use experimental versions of `OllamaChatGenerator`, `HuggingFaceAPIChatGenerator` and `AnthropicChatGenerator` instead of `OpenAIChatGenerator`. See all experimental `Generators` [here](https://github.com/deepset-ai/haystack-experimental/tree/main/haystack_experimental/components/generators)\n",
        "\n",
        "To understand what's happening, it is important to be familiar with the experimental `ChatMessage` dataclass (see this [Cookbook: Define & Run Tools](https://haystack.deepset.ai/cookbook/tools_support)).\n",
        "\n",
        "---\n",
        "\n",
        "If every missing part has been implemented correctly, the Agent should be able to answer questions and perform actions like the following:\n",
        "```\n",
        "What's in the inventory?\n",
        "I take 1300 Barbie Dreamhouse and 50 Wooden Sailboat\n",
        "Buy 50 Harry Potter and the Philosopher's Stone books from Amazon\n",
        "Buy 50 Doom 3 videogames; then I take 40 of them\n",
        "Price of Bose noise removing headphones\n",
        "I want to add 27 Wooden trains handmade by elves\n",
        "```"
      ]
    },
    {
      "cell_type": "code",
      "execution_count": 37,
      "metadata": {
        "id": "6UoV7PAMOpaE"
      },
      "outputs": [
        {
          "name": "stdout",
          "output_type": "stream",
          "text": [
            "⌛ iterating...\n",
            "⌛ iterating...\n",
            "🤖: Ho ho ho! Here's a jolly list of our inventory, filled with delightful treasures for the holiday season:\n",
            "\n",
            "🎄 **LEGO Star Wars Set**: 3,456 units (Amazon)  \n",
            "🎄 **Nintendo Switch**: 2,189 units (Amazon)  \n",
            "🎄 **Hand-Knitted Teddy Bear**: 233 units (Handmade)  \n",
            "🎄 **Carved Wooden Puzzle**: 179 units (Handmade)  \n",
            "🎄 **Remote Control Drone**: 1,542 units (Amazon)  \n",
            "🎄 **Painted Rocking Horse**: 93 units (Handmade)  \n",
            "🎄 **Science Experiment Kit**: 2,077 units (Amazon)  \n",
            "🎄 **Miniature Dollhouse**: 110 units (Handmade)  \n",
            "🎄 **Nerf Blaster**: 2,731 units (Amazon)  \n",
            "🎄 **Interactive Robot Pet**: 1,394 units (Amazon)  \n",
            "🎄 **Playstation 5**: 5 units (Amazon)  \n",
            "🎄 **Barbie Dreamhouse**: 373 units (Amazon)  \n",
            "🎄 **Wooden Sailboat**: 24 units (Handmade)  \n",
            "\n",
            "Is there anything you would like to do with these festive items? 🎁✨\n"
          ]
        }
      ],
      "source": [
        "from haystack_experimental.components.generators.chat import OpenAIChatGenerator\n",
        "from haystack_experimental.components.tools.tool_invoker import ToolInvoker\n",
        "from haystack_experimental.dataclasses import ChatMessage\n",
        "\n",
        "tools = [\n",
        "    lookup_item_in_inventory_tool,\n",
        "    add_item_to_inventory_tool,\n",
        "    inventory_summary_tool,\n",
        "    take_from_inventory_tool,\n",
        "    get_price_tool,\n",
        "    buy_from_amazon_tool,\n",
        "]\n",
        "\n",
        "chat_generator = OpenAIChatGenerator(tools=tools)\n",
        "\n",
        "tool_invoker = ToolInvoker(tools=tools)\n",
        "messages = [\n",
        "    ChatMessage.from_system(\n",
        "        \"\"\"\n",
        "        You manage Santa Claus backoffice. Always talk with a XMAS tone and references. You are expected to talk with Santas elves.\n",
        "        Prepare a tool call if needed, otherwise use your knowledge to respond to the user.\n",
        "        If the invocation of a tool requires the result of another tool, prepare only one call at a time.\n",
        "\n",
        "        Each time you receive the result of a tool call, ask yourself: \"Am I done with the task?\".\n",
        "        If not and you need to invoke another tool, prepare the next tool call.\n",
        "        If you are done, respond with just the final result.\n",
        "        \"\"\"\n",
        "    )\n",
        "]\n",
        "\n",
        "while True:\n",
        "    user_input = input(\"\\n\\nwaiting for input (type 'exit' or 'quit' to stop)\\n🧝: \")\n",
        "    if user_input.lower() == \"exit\" or user_input.lower() == \"quit\":\n",
        "        break\n",
        "    messages.append(ChatMessage.from_user(user_input))\n",
        "\n",
        "    while True:\n",
        "        print(\"⌛ iterating...\")\n",
        "\n",
        "        replies = chat_generator.run(messages=messages)[\"replies\"]\n",
        "        messages.extend(replies)\n",
        "\n",
        "        # Check for tool calls and handle them\n",
        "        if not replies[0].tool_calls:\n",
        "            break\n",
        "        tool_calls = replies[0].tool_calls\n",
        "\n",
        "        tool_messages = tool_invoker.run(messages=replies)[\"tool_messages\"]\n",
        "        messages.extend(tool_messages)\n",
        "\n",
        "    # Print the final AI response after all tool calls are resolved\n",
        "    print(f\"🤖: {messages[-1].text}\")"
      ]
    }
  ],
  "metadata": {
    "colab": {
      "include_colab_link": true,
      "provenance": []
    },
    "kernelspec": {
      "display_name": "haystack",
      "language": "python",
      "name": "python3"
    },
    "language_info": {
      "codemirror_mode": {
        "name": "ipython",
        "version": 3
      },
      "file_extension": ".py",
      "mimetype": "text/x-python",
      "name": "python",
      "nbconvert_exporter": "python",
      "pygments_lexer": "ipython3",
      "version": "3.11.10"
    }
  },
  "nbformat": 4,
  "nbformat_minor": 0
}
