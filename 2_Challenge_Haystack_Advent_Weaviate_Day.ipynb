{
 "cells": [
  {
   "cell_type": "markdown",
   "metadata": {
    "colab_type": "text",
    "id": "view-in-github"
   },
   "source": [
    "<a href=\"https://colab.research.google.com/github/d-kleine/Advent_of_HayStack/blob/main/2_Challenge_Haystack_Advent_Weaviate_Day.ipynb\" target=\"_parent\"><img src=\"https://colab.research.google.com/assets/colab-badge.svg\" alt=\"Open In Colab\"/></a>"
   ]
  },
  {
   "cell_type": "markdown",
   "metadata": {
    "id": "lL7Y3zl5NYAy"
   },
   "source": [
    "# Advent of Haystack: Day 2\n",
    "\n",
    "_Make a copy of this Colab to start_\n",
    "\n",
    "In this challenge, your mission is to help a couple of fictional elves in the film \"A Very Weaviate Christmas\".\n",
    "1. Find out what's happening in the film \"A Very Weaviate Christmas\"\n",
    "2. This will lead you to a clue that will let you discover which Weaviate Collection to peak into.\n",
    "3. While submitting the challenge, tell us what you find there!\n",
    "\n",
    "\n",
    "### Components to use:\n",
    "1. [`OpenAITextEmbedder`](https://docs.haystack.deepset.ai/docs/openaitextembedder)\n",
    "2. [`OpenAIGenerator`](https://docs.haystack.deepset.ai/docs/openaigenerator)\n",
    "3. [`PromptBuilder`](https://docs.haystack.deepset.ai/docs/promptbuilder)\n",
    "4. [`WeaviateDocumentStore`](https://docs.haystack.deepset.ai/docs/weaviatedocumentstore)\n",
    "5. [`WeaviateEmbeddingRetriever`](https://docs.haystack.deepset.ai/reference/integrations-weaviate#weaviateembeddingretriever)\n",
    "\n",
    "\n",
    "🎄 **Your task is to complete steps 3 and 4**. But make sure you run the code cells before. You should know what each prior step is doing."
   ]
  },
  {
   "cell_type": "markdown",
   "metadata": {
    "id": "VVczHaPYOGxT"
   },
   "source": [
    "## 1) Setup and Installation"
   ]
  },
  {
   "cell_type": "code",
   "execution_count": 1,
   "metadata": {
    "id": "hdiFsnQDWzP0"
   },
   "outputs": [],
   "source": [
    "# pip install haystack-ai weaviate-haystack"
   ]
  },
  {
   "cell_type": "markdown",
   "metadata": {
    "id": "VtYq1ESqMB3K"
   },
   "source": [
    "To get started, first provide your API keys below. We're providing you with a read-only API Key for Weaviate.\n",
    "\n",
    "For this challenge, we've prepared a Weaviate Collection for you which contains lots of movies and their overviews."
   ]
  },
  {
   "cell_type": "code",
   "execution_count": 2,
   "metadata": {
    "colab": {
     "base_uri": "https://localhost:8080/"
    },
    "id": "FL3rTDBtMBOj",
    "outputId": "fbc41d2d-ec98-4c93-c79e-a2b31ad02c58"
   },
   "outputs": [],
   "source": [
    "import os\n",
    "from getpass import getpass\n",
    "\n",
    "os.environ[\"WEAVIATE_API_KEY\"] = \"b3jhGwa4NkLGjaq3v1V1vh1pTrlKjePZSt91\"\n",
    "\n",
    "if \"OPENAI_API_KEY\" not in os.environ:\n",
    "    os.environ[\"OPENAI_API_KEY\"] = getpass(\"Enter OpenAI API key:\")"
   ]
  },
  {
   "cell_type": "markdown",
   "metadata": {
    "id": "PYsyzFI0MvHF"
   },
   "source": [
    "## 2) Weaviate Setup\n",
    "\n",
    "Next, you can connect to the right `WeaviateDocumentStore` (we've already added the right code for you below with the client URL in place).\n",
    "\n",
    "In this document store, there are many movies, their titles and ther overviews."
   ]
  },
  {
   "cell_type": "code",
   "execution_count": 3,
   "metadata": {
    "id": "EbTdrvUgZoku"
   },
   "outputs": [],
   "source": [
    "from haystack_integrations.document_stores.weaviate import WeaviateDocumentStore, AuthApiKey\n",
    "import os\n",
    "\n",
    "\n",
    "auth_client_secret = AuthApiKey()\n",
    "document_store = WeaviateDocumentStore(url=\"https://zgvjwlycsr6p5j1ziuyea.c0.europe-west3.gcp.weaviate.cloud\",\n",
    "                                       auth_client_secret=auth_client_secret)"
   ]
  },
  {
   "cell_type": "markdown",
   "metadata": {
    "id": "4qTWIDu_OpSF"
   },
   "source": [
    "## 3) The RAG Pipeline\n",
    "\n",
    "Now, you're on your own. Complete the code blocks below.\n",
    "\n",
    "First, create a RAG pipeline that can answer questions based on the overviews of the movies in your `document_store`.\n",
    "\n",
    "⭐️ You should then be able to run the pipeline and answer the questions \"What happens in the film 'A Very Weaviate Christmas'?\"\n",
    "\n",
    "**💚 Hint 1:** The embedding model that was used to populate the vectors was `text-embedding-3-small` by OpenAI.\n",
    "\n",
    "**💙 Hint 2:** We've added an import to the OpenAIGenerator but feel free to use something else!"
   ]
  },
  {
   "cell_type": "code",
   "execution_count": 4,
   "metadata": {
    "id": "aVUii4r1cr3f"
   },
   "outputs": [],
   "source": [
    "from haystack import Pipeline\n",
    "from haystack.components.embedders import OpenAITextEmbedder\n",
    "from haystack.components.generators import HuggingFaceLocalGenerator\n",
    "from haystack.components.builders import PromptBuilder\n",
    "from haystack_integrations.components.retrievers.weaviate import WeaviateEmbeddingRetriever\n",
    "from transformers import AutoTokenizer # added\n",
    "\n",
    "model = \"meta-llama/Llama-3.2-1B-Instruct\"\n",
    "eos_token_id = AutoTokenizer.from_pretrained(model).eos_token_id\n",
    "\n",
    "template = \"\"\"Given the information below, answer the query. Only use the \n",
    "provided context to generate the answer\n",
    "\n",
    "    Context:\n",
    "\n",
    "    {% for document in documents %}\n",
    "        {{ document.content }}\n",
    "    {% endfor %}\n",
    "\n",
    "    Question: {{ query }}\n",
    "    \n",
    "    Answer:\n",
    "\"\"\"\n",
    "\n",
    "text_embedder = OpenAITextEmbedder(model=\"text-embedding-3-small\")\n",
    "retriever = WeaviateEmbeddingRetriever(document_store=document_store, top_k=5)\n",
    "prompt_builder = PromptBuilder(template=template)\n",
    "generator = HuggingFaceLocalGenerator(model=model,\n",
    "                                      task=\"text-generation\",\n",
    "                                      generation_kwargs={\n",
    "                                        \"do_sample\": False,\n",
    "                                        \"top_p\": None,\n",
    "                                        \"temperature\": None,\n",
    "                                        \"pad_token_id\": eos_token_id\n",
    "                                        })"
   ]
  },
  {
   "cell_type": "code",
   "execution_count": 5,
   "metadata": {
    "id": "OsiP8tIVfXqD"
   },
   "outputs": [
    {
     "name": "stderr",
     "output_type": "stream",
     "text": [
      "Device set to use cuda:0\n"
     ]
    },
    {
     "name": "stdout",
     "output_type": "stream",
     "text": [
      " In the film 'A Very Weaviate Christmas', Daniel and Philip, two elves, are on a mission to recover stolen vectors from an intruder in Santa's Grotto. Meanwhile, Jonah, the son of Sam Baldwin, is trying to find a new wife for his dad, and Annie Reed is having doubts about her relationship. The Grinch tries to rob Whoville of Christmas, but a dash of kindness from Cindy Lou Who helps him melt his heart. Charlie Simms is trying to earn money for his flight home to Gresham, and Mia and Sebastian are facing decisions that threaten to fray their love affair.\n"
     ]
    }
   ],
   "source": [
    "query = \"What happens in the film 'A Very Weaviate Christmas'?\"\n",
    "\n",
    "rag = Pipeline()\n",
    "\n",
    "rag.add_component(\"text_embedder\", text_embedder)\n",
    "rag.add_component(\"retriever\", retriever)\n",
    "rag.add_component(\"prompt_builder\", prompt_builder)\n",
    "rag.add_component(\"llm\", generator)\n",
    "\n",
    "rag.connect(\"text_embedder.embedding\", \"retriever.query_embedding\")\n",
    "rag.connect(\"retriever\", \"prompt_builder.documents\")\n",
    "rag.connect(\"prompt_builder\", \"llm\") \n",
    "\n",
    "reply = rag.run({\"text_embedder\": {\"text\": query}, \"prompt_builder\": {\"query\": query}})\n",
    "\n",
    "print(reply[\"llm\"][\"replies\"][0])"
   ]
  },
  {
   "cell_type": "markdown",
   "metadata": {
    "id": "iEldTiRmShUk"
   },
   "source": [
    "## 4) Solve the Mystery\n",
    "\n",
    "By this point, you should know what's happening.. There is a Collection where everything has been hidden.\n",
    "\n",
    "Complete the code cell below by providing the right Collection name, and tell us the following:\n",
    "\n",
    "1. Who is the culprit? Watch out, because there may be `decoys`.\n",
    "2. What have they stolen?\n",
    "\n",
    "**💚 Hint:** Once you've connected to the right collection, take a look at all the Objects in there. Then, you may be able to use filters to avoid the decoys!\n",
    "\n",
    "- [Weaviate Documentation: Read all Objects](https://weaviate.io/developers/weaviate/manage-data/read-all-objects)\n",
    "- [Weaviate Documentation: Filters](https://weaviate.io/developers/weaviate/search/filters)"
   ]
  },
  {
   "cell_type": "code",
   "execution_count": 6,
   "metadata": {
    "id": "4US7AdElQ2Zk"
   },
   "outputs": [],
   "source": [
    "import weaviate\n",
    "\n",
    "from weaviate.classes.init import Auth\n",
    "\n",
    "headers = {\"X-OpenAI-Api-Key\": os.getenv(\"OPENAI_API_KEY\")}\n",
    "client = weaviate.connect_to_weaviate_cloud(cluster_url=\"https://zgvjwlycsr6p5j1ziuyea.c0.europe-west3.gcp.weaviate.cloud\",\n",
    "                                            auth_credentials=Auth.api_key(os.getenv(\"WEAVIATE_API_KEY\")),\n",
    "                                            headers=headers)"
   ]
  },
  {
   "cell_type": "code",
   "execution_count": 7,
   "metadata": {},
   "outputs": [
    {
     "name": "stdout",
     "output_type": "stream",
     "text": [
      "Collection Names: ['Default', 'Santas_Grotto']\n"
     ]
    }
   ],
   "source": [
    "col_configs = client.collections.list_all()\n",
    "\n",
    "collection_names = sorted(list(col_configs.keys()))\n",
    "print(\"Collection Names:\", collection_names)"
   ]
  },
  {
   "cell_type": "code",
   "execution_count": 8,
   "metadata": {},
   "outputs": [],
   "source": [
    "collection_name = collection_names[-1] # equals 'Santas_Grotto'"
   ]
  },
  {
   "cell_type": "code",
   "execution_count": 9,
   "metadata": {},
   "outputs": [
    {
     "name": "stdout",
     "output_type": "stream",
     "text": [
      "{'plot': 'Tuana is here with not just all the vectors but also all the presents that are supposed to be delivered around the World!', 'decoy': False}\n",
      "{'plot': \"Sebastian is here, but he seems unsure what's going on\", 'decoy': True}\n",
      "{'plot': \"JP is here, looks like he's feasting on cookies\", 'decoy': True}\n"
     ]
    }
   ],
   "source": [
    "collection_details = client.collections.get(collection_name)\n",
    "for item in collection_details.iterator(\n",
    "):\n",
    "    print(item.properties)"
   ]
  },
  {
   "cell_type": "code",
   "execution_count": 10,
   "metadata": {},
   "outputs": [],
   "source": [
    "from weaviate.classes.query import Filter\n",
    "\n",
    "response = collection_details.query.fetch_objects(\n",
    "    filters=Filter.by_property(\"decoy\").equal(False)) # setting decoy = False to avoid the decoys"
   ]
  },
  {
   "cell_type": "code",
   "execution_count": 11,
   "metadata": {},
   "outputs": [
    {
     "name": "stdout",
     "output_type": "stream",
     "text": [
      "QueryReturn(objects=[Object(uuid=_WeaviateUUIDInt('2713b638-12fd-48ea-99d1-0a852a7cf241'), metadata=MetadataReturn(creation_time=None, last_update_time=None, distance=None, certainty=None, score=None, explain_score=None, is_consistent=None, rerank_score=None), properties={'plot': 'Tuana is here with not just all the vectors but also all the presents that are supposed to be delivered around the World!', 'decoy': False}, references=None, vector={}, collection='Santas_Grotto')])\n"
     ]
    }
   ],
   "source": [
    "print(response)"
   ]
  },
  {
   "cell_type": "code",
   "execution_count": 12,
   "metadata": {},
   "outputs": [
    {
     "name": "stdout",
     "output_type": "stream",
     "text": [
      "Tuana is here with not just all the vectors but also all the presents that are supposed to be delivered around the World!\n"
     ]
    }
   ],
   "source": [
    "for obj in response.objects:\n",
    "    print(obj.properties.get('plot'))  # Tuana is the culprit, he stole was all the presents!"
   ]
  }
 ],
 "metadata": {
  "colab": {
   "include_colab_link": true,
   "provenance": []
  },
  "kernelspec": {
   "display_name": "haystack",
   "language": "python",
   "name": "python3"
  },
  "language_info": {
   "codemirror_mode": {
    "name": "ipython",
    "version": 3
   },
   "file_extension": ".py",
   "mimetype": "text/x-python",
   "name": "python",
   "nbconvert_exporter": "python",
   "pygments_lexer": "ipython3",
   "version": "3.11.10"
  }
 },
 "nbformat": 4,
 "nbformat_minor": 0
}
