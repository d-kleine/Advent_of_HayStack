{
 "cells": [
  {
   "cell_type": "markdown",
   "metadata": {},
   "source": [
    "# Advent of Haystack - Day 5\n",
    "\n",
    "## The Elf on a Mission: Sharing the Christmas Magic\n",
    "\n",
    "For this challenge, you’ll join Elf Tobi to create a RAG pipeline in *deepset Studio*. Here are the steps to complete the challenge:\n",
    "\n",
    "- Use sample files for “AI” in deepset studio to populate the Elves’ AI Library\n",
    "- Explore pipeline templates and use the “RAG Question Answering GPT-4o” template (or any other template) to save time 😉\n",
    "- Build, save, and deploy your indexing and query pipeline (Deployment might take a bit of time, so feel free to revisit earlier Advent of Haystack challenges while you wait ☃️)\n",
    "- Use the Playground to test your pipeline and submit the pipeline’s output for the query “What’s Compound AI?”\n",
    "\n",
    "(This challenge is non/low-code, therefore I only provide a description what I did to solve the above described challenge)"
   ]
  },
  {
   "cell_type": "markdown",
   "metadata": {
    "vscode": {
     "languageId": "plaintext"
    }
   },
   "source": [
    "Here are the steps I performed to create the task in the [*deepset Cloud*](https://cloud.deepset.ai/):\n",
    "\n",
    "### **1. Set Up OpenAI Secret Key and Connection**\n",
    "- Navigated to the **Secrets** section under my profile.\n",
    "- Added a new secret with the name `OPENAI_API_KEY` and entered my OpenAI API key which is need for the pipeline I was using.\n",
    "- Went to the **Connections** section and established a connection to the OpenAI service.\n",
    "\n",
    "![OpenAI key](./screenshots/secrets.png)\n",
    "![OpenAI connection](./screenshots/connections.png)"
   ]
  },
  {
   "cell_type": "markdown",
   "metadata": {
    "vscode": {
     "languageId": "plaintext"
    }
   },
   "source": [
    "### **2. Populated the Elves' AI Library**\n",
    "- Opened the **Files** section in deepset Cloud.\n",
    "- Clicked on **Sample Files** and selected the \"AI\" files from the list.\n",
    "- Imported these files into the workspace to populate the dataset.\n",
    "\n",
    "![Data ingestion](./screenshots/dataset.png)"
   ]
  },
  {
   "cell_type": "markdown",
   "metadata": {
    "vscode": {
     "languageId": "plaintext"
    }
   },
   "source": [
    "### **3. Created a RAG Pipeline**\n",
    "- Used the predefined **RAG Question Answering GPT-4o** template for English (en) from the pipeline templates.\n",
    "- Created a pipeline using this template, which included both indexing and query pipelines.\n",
    "  - *Indexing*: Organize and preprocess files into searchable chunks, preparing data for search through an indexing pipeline.\n",
    "  - *Query*: Outline steps to retrieve and deliver relevant answers, using a query pipeline to execute searches effectively.\n",
    "- Verified that the `OpenAIGenerator` component in the query pipeline required the `OPENAI_API_KEY`. This was visible under \"Optional Parameters\" in the component settings.\n",
    "\n",
    "![Pipeline Optional Parameters](./screenshots/key.png)"
   ]
  },
  {
   "cell_type": "markdown",
   "metadata": {
    "vscode": {
     "languageId": "plaintext"
    }
   },
   "source": [
    "### **4. Deployed the Pipeline**\n",
    "- Saved and deployed the pipeline, which took a few minutes to complete.\n",
    "\n",
    "![Deployed Pipeline](./screenshots/pipeline.png)"
   ]
  },
  {
   "cell_type": "markdown",
   "metadata": {},
   "source": [
    "### **5. Tested in Playground**\n",
    "- After deployment, navigated to the **Playground** section.\n",
    "- Selected my pipeline named \"RAG-Chat-gpt4o-en\" and chose the dataset titled \"AI\".\n",
    "- Entered the query: *\"What's Compound AI?\"* and retrieved the pipeline's output.\n",
    "\n",
    "which output:\n",
    "\n",
    "```markdown\n",
    "Compound AI is a design principle that involves building AI systems as complex, modular systems composed of multiple interacting components. These components can include AI models, retrievers, or external tools, and are designed to work together to tackle AI tasks. This approach allows for flexibility, as components can be evaluated, improved, replaced, or added independently, making the system adaptable to new models or requirements. Compound AI is the dominant paradigm in AI system design today, enabling the creation of sophisticated systems tailored to unique business use cases .\n",
    "```\n",
    "\n",
    "along with the references from the \"AI\" dataset used for the query.\n",
    "\n",
    "![Pipeline Test](./screenshots/test.png)"
   ]
  }
 ],
 "metadata": {
  "language_info": {
   "name": "python"
  }
 },
 "nbformat": 4,
 "nbformat_minor": 2
}
